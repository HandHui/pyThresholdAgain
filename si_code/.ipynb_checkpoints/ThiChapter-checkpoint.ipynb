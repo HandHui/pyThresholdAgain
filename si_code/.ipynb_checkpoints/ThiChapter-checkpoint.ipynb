{
 "cells": [
  {
   "cell_type": "code",
   "execution_count": 1,
   "metadata": {},
   "outputs": [
    {
     "name": "stdout",
     "output_type": "stream",
     "text": [
      "4\n"
     ]
    }
   ],
   "source": [
    "# ** 表示乘方\n",
    "# 相当于 pow(x,y)\n",
    "x=2\n",
    "y=2\n",
    "print(x**y)"
   ]
  },
  {
   "cell_type": "markdown",
   "metadata": {},
   "source": [
    "<h3>math库的使用</h3>"
   ]
  },
  {
   "cell_type": "code",
   "execution_count": 7,
   "metadata": {},
   "outputs": [
    {
     "data": {
      "text/plain": [
       "False"
      ]
     },
     "execution_count": 7,
     "metadata": {},
     "output_type": "execute_result"
    }
   ],
   "source": [
    "# math.pi math.inf math.nan \n",
    "# math.ceil(),math.floor()\n",
    "# math.fabs() fmod() fsum([])\n",
    "#math.isfinite(),math.isinf()\n",
    "#math.isnan()\n",
    "\n",
    "#math.factorial()\n",
    "import math\n",
    "math.factorial(5)\n",
    "math.isinf(5)"
   ]
  },
  {
   "cell_type": "code",
   "execution_count": 15,
   "metadata": {},
   "outputs": [
    {
     "data": {
      "text/plain": [
       "6"
      ]
     },
     "execution_count": 15,
     "metadata": {},
     "output_type": "execute_result"
    }
   ],
   "source": [
    "#math.pow() math.exp(x) \n",
    "#math.sqrt()\n",
    "#math.log(x[,base]) \n",
    "math.log(7)\n",
    "math.exp(2)\n",
    "round(5.5)"
   ]
  },
  {
   "cell_type": "markdown",
   "metadata": {},
   "source": [
    "<h3>day day up</h3>"
   ]
  },
  {
   "cell_type": "code",
   "execution_count": null,
   "metadata": {},
   "outputs": [],
   "source": [
    "def DayUp(df):\n",
    "    dayup = 0.01\n",
    "    for i in range(365):\n",
    "        if i%7 in [6,0]:"
   ]
  }
 ],
 "metadata": {
  "kernelspec": {
   "display_name": "Python 3",
   "language": "python",
   "name": "python3"
  },
  "language_info": {
   "codemirror_mode": {
    "name": "ipython",
    "version": 3
   },
   "file_extension": ".py",
   "mimetype": "text/x-python",
   "name": "python",
   "nbconvert_exporter": "python",
   "pygments_lexer": "ipython3",
   "version": "3.7.0"
  }
 },
 "nbformat": 4,
 "nbformat_minor": 2
}

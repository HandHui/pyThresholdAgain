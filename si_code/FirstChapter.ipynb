{
 "cells": [
  {
   "cell_type": "markdown",
   "metadata": {},
   "source": [
    "<h5>示例1.2( input与format)</h5>"
   ]
  },
  {
   "cell_type": "code",
   "execution_count": 2,
   "metadata": {},
   "outputs": [
    {
     "name": "stdout",
     "output_type": "stream",
     "text": [
      "请输入名字：白展堂\n",
      "白展堂同学，学好python，前途无量.\n",
      "白大侠，学好python,大展拳脚.\n"
     ]
    }
   ],
   "source": [
    "name = input(\"请输入名字：\")\n",
    "print(\"{}同学，学好python，前途无量.\".format(name))\n",
    "print(\"{}大侠，学好python,大展拳脚.\".format(name[0]))"
   ]
  },
  {
   "cell_type": "markdown",
   "metadata": {},
   "source": [
    "<h5>示例1.3(a,b同时赋值)</h5>"
   ]
  },
  {
   "cell_type": "code",
   "execution_count": 6,
   "metadata": {},
   "outputs": [
    {
     "name": "stdout",
     "output_type": "stream",
     "text": [
      "0,1,1,2,3,5,8,13,21,34,55,89,"
     ]
    }
   ],
   "source": [
    "a,b=0,1\n",
    "while a<100:\n",
    "    print(a,end=',')\n",
    "    a,b=b,a+b"
   ]
  },
  {
   "cell_type": "markdown",
   "metadata": {},
   "source": [
    "<h5>示例1.4turtle</h5>"
   ]
  },
  {
   "cell_type": "code",
   "execution_count": 8,
   "metadata": {},
   "outputs": [],
   "source": [
    "#执行会报错，但无所谓，好简单的\n",
    "import turtle\n",
    "turtle.pensize(2)\n",
    "turtle.circle(10)\n",
    "turtle.circle(20)"
   ]
  },
  {
   "cell_type": "markdown",
   "metadata": {},
   "source": [
    "<h5>示例1.5time</h5>"
   ]
  },
  {
   "cell_type": "code",
   "execution_count": 2,
   "metadata": {},
   "outputs": [
    {
     "name": "stdout",
     "output_type": "stream",
     "text": [
      "1553689926.2917585\n"
     ]
    }
   ],
   "source": [
    "#time.time()为浮点数\n",
    "import time\n",
    "now=time.time()\n",
    "print(now)\n",
    "\n",
    "#localtime可将time.time()所返回的浮点数返回成带结构的时间点\n",
    "loctime=time.localtime(now)\n",
    "print(loctime)\n",
    "\n",
    "#将loctime返回为格式化时间\n",
    "time.asctime(loctime)\n",
    "\n",
    "#格式化输出 time.strftime()\n",
    "print(time.strftime(\"%Y-%m-%d %H:%M:%S\",loctime))"
   ]
  },
  {
   "cell_type": "markdown",
   "metadata": {},
   "source": [
    "<h5>示例1.5calendar</h5>"
   ]
  },
  {
   "cell_type": "code",
   "execution_count": 14,
   "metadata": {},
   "outputs": [
    {
     "data": {
      "text/plain": [
       "False"
      ]
     },
     "execution_count": 14,
     "metadata": {},
     "output_type": "execute_result"
    }
   ],
   "source": [
    "import calendar\n",
    "\n",
    "calendar.isleap(2019)"
   ]
  },
  {
   "cell_type": "markdown",
   "metadata": {},
   "source": [
    "<h5>示例1.5datatime</h5>"
   ]
  },
  {
   "cell_type": "code",
   "execution_count": 31,
   "metadata": {},
   "outputs": [
    {
     "name": "stdout",
     "output_type": "stream",
     "text": [
      "2019-03-27 21:40:39.086262\n",
      "03-26\n"
     ]
    }
   ],
   "source": [
    "#datetime能进行加减\n",
    "import datetime\n",
    "now = datetime.datetime.now()\n",
    "print(now)\n",
    "\n",
    "#日期加减\n",
    "yes=now-datetime.timedelta(days=1)\n",
    "print(yes.strftime(\"%m-%d\"))\n",
    "\n",
    "\n",
    "# '''\n",
    "# datetime与time格式化输出时区别：\n",
    "# datetime.datetime.strftime(\"%Y-%m-%d\")\n",
    "# time.strftime(\"%Y-%m-%d\",loctime)\n",
    "\n",
    "# '''"
   ]
  },
  {
   "cell_type": "code",
   "execution_count": null,
   "metadata": {},
   "outputs": [],
   "source": []
  }
 ],
 "metadata": {
  "kernelspec": {
   "display_name": "Python 3",
   "language": "python",
   "name": "python3"
  },
  "language_info": {
   "codemirror_mode": {
    "name": "ipython",
    "version": 3
   },
   "file_extension": ".py",
   "mimetype": "text/x-python",
   "name": "python",
   "nbconvert_exporter": "python",
   "pygments_lexer": "ipython3",
   "version": "3.7.0"
  }
 },
 "nbformat": 4,
 "nbformat_minor": 2
}

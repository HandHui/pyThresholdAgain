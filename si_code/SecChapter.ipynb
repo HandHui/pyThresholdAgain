{
 "cells": [
  {
   "cell_type": "code",
   "execution_count": 11,
   "metadata": {},
   "outputs": [
    {
     "name": "stdout",
     "output_type": "stream",
     "text": [
      "2\n",
      "3.4000000000000004\n"
     ]
    }
   ],
   "source": [
    "#eval函数以表达式的方式解析字符串\n",
    "x=1\n",
    "print(eval(\"x+1\"))\n",
    "print(eval(\" 1.3 + 2.1 \"))\n",
    "#??会有报错现象"
   ]
  },
  {
   "cell_type": "code",
   "execution_count": 12,
   "metadata": {},
   "outputs": [
    {
     "name": "stdout",
     "output_type": "stream",
     "text": [
      "请输入数值：12.5\n",
      "25.0\n"
     ]
    }
   ],
   "source": [
    "#eval函数运用\n",
    "xstr=input(\"请输入数值：\")\n",
    "x=eval(xstr)\n",
    "print(x*2)"
   ]
  },
  {
   "cell_type": "markdown",
   "metadata": {},
   "source": [
    "<h3>美元与人民币的双向兑换程序</h3>"
   ]
  },
  {
   "cell_type": "code",
   "execution_count": 20,
   "metadata": {},
   "outputs": [
    {
     "name": "stdout",
     "output_type": "stream",
     "text": [
      "输入兑换金额12r\n",
      "兑换后的美元金额为：2.0\n"
     ]
    }
   ],
   "source": [
    "xstr=input(\"输入兑换金额\")\n",
    "x=eval(xstr[:-1])\n",
    "if xstr[-1] == \"d\":\n",
    "    rmb = x*6\n",
    "    print(\"兑换后的人民币金额：{}\".format(rmb))\n",
    "elif xstr[-1] == \"r\":\n",
    "    dol = x/6\n",
    "    print(\"兑换后的美元金额为：{}\".format(dol))\n",
    "else:\n",
    "    print(\"输入格式错误\")"
   ]
  },
  {
   "cell_type": "code",
   "execution_count": null,
   "metadata": {},
   "outputs": [],
   "source": []
  }
 ],
 "metadata": {
  "kernelspec": {
   "display_name": "Python 3",
   "language": "python",
   "name": "python3"
  },
  "language_info": {
   "codemirror_mode": {
    "name": "ipython",
    "version": 3
   },
   "file_extension": ".py",
   "mimetype": "text/x-python",
   "name": "python",
   "nbconvert_exporter": "python",
   "pygments_lexer": "ipython3",
   "version": "3.7.0"
  }
 },
 "nbformat": 4,
 "nbformat_minor": 2
}
